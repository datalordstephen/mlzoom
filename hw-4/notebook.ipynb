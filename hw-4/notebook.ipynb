{
 "cells": [
  {
   "cell_type": "code",
   "execution_count": 1,
   "id": "2992f6f8",
   "metadata": {},
   "outputs": [
    {
     "name": "stdout",
     "output_type": "stream",
     "text": [
      "--2025-10-21 00:34:21--  https://raw.githubusercontent.com/alexeygrigorev/datasets/master/course_lead_scoring.csv\n",
      "Resolving raw.githubusercontent.com (raw.githubusercontent.com)... 185.199.108.133, 185.199.109.133, 185.199.110.133, ...\n",
      "Connecting to raw.githubusercontent.com (raw.githubusercontent.com)|185.199.108.133|:443... connected.\n",
      "HTTP request sent, awaiting response... 200 OK\n",
      "Length: 80876 (79K) [text/plain]\n",
      "Saving to: ‘course_lead_scoring.csv’\n",
      "\n",
      "course_lead_scoring 100%[===================>]  78.98K  28.3KB/s    in 2.8s    \n",
      "\n",
      "2025-10-21 00:34:27 (28.3 KB/s) - ‘course_lead_scoring.csv’ saved [80876/80876]\n",
      "\n"
     ]
    }
   ],
   "source": [
    "!wget https://raw.githubusercontent.com/alexeygrigorev/datasets/master/course_lead_scoring.csv"
   ]
  },
  {
   "cell_type": "code",
   "execution_count": 1,
   "id": "d8df9b1f",
   "metadata": {},
   "outputs": [],
   "source": [
    "import pandas as pd\n",
    "import numpy as np"
   ]
  },
  {
   "cell_type": "code",
   "execution_count": 3,
   "id": "2a081c83",
   "metadata": {},
   "outputs": [
    {
     "data": {
      "application/vnd.microsoft.datawrangler.viewer.v0+json": {
       "columns": [
        {
         "name": "index",
         "rawType": "int64",
         "type": "integer"
        },
        {
         "name": "lead_source",
         "rawType": "object",
         "type": "string"
        },
        {
         "name": "industry",
         "rawType": "object",
         "type": "unknown"
        },
        {
         "name": "number_of_courses_viewed",
         "rawType": "int64",
         "type": "integer"
        },
        {
         "name": "annual_income",
         "rawType": "float64",
         "type": "float"
        },
        {
         "name": "employment_status",
         "rawType": "object",
         "type": "unknown"
        },
        {
         "name": "location",
         "rawType": "object",
         "type": "string"
        },
        {
         "name": "interaction_count",
         "rawType": "int64",
         "type": "integer"
        },
        {
         "name": "lead_score",
         "rawType": "float64",
         "type": "float"
        },
        {
         "name": "converted",
         "rawType": "int64",
         "type": "integer"
        }
       ],
       "conversionMethod": "pd.DataFrame",
       "ref": "bec70778-4ea1-4acd-996c-211b1bac43cb",
       "rows": [
        [
         "0",
         "paid_ads",
         null,
         "1",
         "79450.0",
         "unemployed",
         "south_america",
         "4",
         "0.94",
         "1"
        ],
        [
         "1",
         "social_media",
         "retail",
         "1",
         "46992.0",
         "employed",
         "south_america",
         "1",
         "0.8",
         "0"
        ],
        [
         "2",
         "events",
         "healthcare",
         "5",
         "78796.0",
         "unemployed",
         "australia",
         "3",
         "0.69",
         "1"
        ],
        [
         "3",
         "paid_ads",
         "retail",
         "2",
         "83843.0",
         null,
         "australia",
         "1",
         "0.87",
         "0"
        ],
        [
         "4",
         "referral",
         "education",
         "3",
         "85012.0",
         "self_employed",
         "europe",
         "3",
         "0.62",
         "1"
        ]
       ],
       "shape": {
        "columns": 9,
        "rows": 5
       }
      },
      "text/html": [
       "<div>\n",
       "<style scoped>\n",
       "    .dataframe tbody tr th:only-of-type {\n",
       "        vertical-align: middle;\n",
       "    }\n",
       "\n",
       "    .dataframe tbody tr th {\n",
       "        vertical-align: top;\n",
       "    }\n",
       "\n",
       "    .dataframe thead th {\n",
       "        text-align: right;\n",
       "    }\n",
       "</style>\n",
       "<table border=\"1\" class=\"dataframe\">\n",
       "  <thead>\n",
       "    <tr style=\"text-align: right;\">\n",
       "      <th></th>\n",
       "      <th>lead_source</th>\n",
       "      <th>industry</th>\n",
       "      <th>number_of_courses_viewed</th>\n",
       "      <th>annual_income</th>\n",
       "      <th>employment_status</th>\n",
       "      <th>location</th>\n",
       "      <th>interaction_count</th>\n",
       "      <th>lead_score</th>\n",
       "      <th>converted</th>\n",
       "    </tr>\n",
       "  </thead>\n",
       "  <tbody>\n",
       "    <tr>\n",
       "      <th>0</th>\n",
       "      <td>paid_ads</td>\n",
       "      <td>NaN</td>\n",
       "      <td>1</td>\n",
       "      <td>79450.0</td>\n",
       "      <td>unemployed</td>\n",
       "      <td>south_america</td>\n",
       "      <td>4</td>\n",
       "      <td>0.94</td>\n",
       "      <td>1</td>\n",
       "    </tr>\n",
       "    <tr>\n",
       "      <th>1</th>\n",
       "      <td>social_media</td>\n",
       "      <td>retail</td>\n",
       "      <td>1</td>\n",
       "      <td>46992.0</td>\n",
       "      <td>employed</td>\n",
       "      <td>south_america</td>\n",
       "      <td>1</td>\n",
       "      <td>0.80</td>\n",
       "      <td>0</td>\n",
       "    </tr>\n",
       "    <tr>\n",
       "      <th>2</th>\n",
       "      <td>events</td>\n",
       "      <td>healthcare</td>\n",
       "      <td>5</td>\n",
       "      <td>78796.0</td>\n",
       "      <td>unemployed</td>\n",
       "      <td>australia</td>\n",
       "      <td>3</td>\n",
       "      <td>0.69</td>\n",
       "      <td>1</td>\n",
       "    </tr>\n",
       "    <tr>\n",
       "      <th>3</th>\n",
       "      <td>paid_ads</td>\n",
       "      <td>retail</td>\n",
       "      <td>2</td>\n",
       "      <td>83843.0</td>\n",
       "      <td>NaN</td>\n",
       "      <td>australia</td>\n",
       "      <td>1</td>\n",
       "      <td>0.87</td>\n",
       "      <td>0</td>\n",
       "    </tr>\n",
       "    <tr>\n",
       "      <th>4</th>\n",
       "      <td>referral</td>\n",
       "      <td>education</td>\n",
       "      <td>3</td>\n",
       "      <td>85012.0</td>\n",
       "      <td>self_employed</td>\n",
       "      <td>europe</td>\n",
       "      <td>3</td>\n",
       "      <td>0.62</td>\n",
       "      <td>1</td>\n",
       "    </tr>\n",
       "  </tbody>\n",
       "</table>\n",
       "</div>"
      ],
      "text/plain": [
       "    lead_source    industry  number_of_courses_viewed  annual_income  \\\n",
       "0      paid_ads         NaN                         1        79450.0   \n",
       "1  social_media      retail                         1        46992.0   \n",
       "2        events  healthcare                         5        78796.0   \n",
       "3      paid_ads      retail                         2        83843.0   \n",
       "4      referral   education                         3        85012.0   \n",
       "\n",
       "  employment_status       location  interaction_count  lead_score  converted  \n",
       "0        unemployed  south_america                  4        0.94          1  \n",
       "1          employed  south_america                  1        0.80          0  \n",
       "2        unemployed      australia                  3        0.69          1  \n",
       "3               NaN      australia                  1        0.87          0  \n",
       "4     self_employed         europe                  3        0.62          1  "
      ]
     },
     "execution_count": 3,
     "metadata": {},
     "output_type": "execute_result"
    }
   ],
   "source": [
    "data = pd.read_csv('course_lead_scoring.csv')\n",
    "data.head()"
   ]
  },
  {
   "cell_type": "code",
   "execution_count": 5,
   "id": "6de2cf91",
   "metadata": {},
   "outputs": [
    {
     "name": "stdout",
     "output_type": "stream",
     "text": [
      "<class 'pandas.core.frame.DataFrame'>\n",
      "RangeIndex: 1462 entries, 0 to 1461\n",
      "Data columns (total 9 columns):\n",
      " #   Column                    Non-Null Count  Dtype  \n",
      "---  ------                    --------------  -----  \n",
      " 0   lead_source               1334 non-null   object \n",
      " 1   industry                  1328 non-null   object \n",
      " 2   number_of_courses_viewed  1462 non-null   int64  \n",
      " 3   annual_income             1281 non-null   float64\n",
      " 4   employment_status         1362 non-null   object \n",
      " 5   location                  1399 non-null   object \n",
      " 6   interaction_count         1462 non-null   int64  \n",
      " 7   lead_score                1462 non-null   float64\n",
      " 8   converted                 1462 non-null   int64  \n",
      "dtypes: float64(2), int64(3), object(4)\n",
      "memory usage: 102.9+ KB\n"
     ]
    }
   ],
   "source": [
    "data.info()"
   ]
  },
  {
   "cell_type": "code",
   "execution_count": 4,
   "id": "3e6ab7c0",
   "metadata": {},
   "outputs": [
    {
     "data": {
      "text/plain": [
       "lead_source                 128\n",
       "industry                    134\n",
       "number_of_courses_viewed      0\n",
       "annual_income               181\n",
       "employment_status           100\n",
       "location                     63\n",
       "interaction_count             0\n",
       "lead_score                    0\n",
       "converted                     0\n",
       "dtype: int64"
      ]
     },
     "execution_count": 4,
     "metadata": {},
     "output_type": "execute_result"
    }
   ],
   "source": [
    "# check missing values\n",
    "data.isnull().sum()"
   ]
  },
  {
   "cell_type": "code",
   "execution_count": 6,
   "id": "9a6e3286",
   "metadata": {},
   "outputs": [],
   "source": [
    "# fill categorical variables with 'NA' and numerical with 0\n",
    "for col in data.columns:\n",
    "    if data[col].dtype == 'object':\n",
    "        data[col] = data[col].fillna('NA')\n",
    "    else:\n",
    "        data[col] = data[col].fillna(0)"
   ]
  },
  {
   "cell_type": "code",
   "execution_count": null,
   "id": "02fc63c9",
   "metadata": {},
   "outputs": [
    {
     "data": {
      "text/plain": [
       "lead_source                 0\n",
       "industry                    0\n",
       "number_of_courses_viewed    0\n",
       "annual_income               0\n",
       "employment_status           0\n",
       "location                    0\n",
       "interaction_count           0\n",
       "lead_score                  0\n",
       "converted                   0\n",
       "dtype: int64"
      ]
     },
     "execution_count": 7,
     "metadata": {},
     "output_type": "execute_result"
    }
   ],
   "source": [
    "# verify no missing values remain\n",
    "data.isnull().sum()"
   ]
  },
  {
   "cell_type": "code",
   "execution_count": 9,
   "id": "700637f3",
   "metadata": {},
   "outputs": [
    {
     "data": {
      "application/vnd.microsoft.datawrangler.viewer.v0+json": {
       "columns": [
        {
         "name": "index",
         "rawType": "int64",
         "type": "integer"
        },
        {
         "name": "lead_source",
         "rawType": "object",
         "type": "string"
        },
        {
         "name": "industry",
         "rawType": "object",
         "type": "string"
        },
        {
         "name": "number_of_courses_viewed",
         "rawType": "int64",
         "type": "integer"
        },
        {
         "name": "annual_income",
         "rawType": "float64",
         "type": "float"
        },
        {
         "name": "employment_status",
         "rawType": "object",
         "type": "string"
        },
        {
         "name": "location",
         "rawType": "object",
         "type": "string"
        },
        {
         "name": "interaction_count",
         "rawType": "int64",
         "type": "integer"
        },
        {
         "name": "lead_score",
         "rawType": "float64",
         "type": "float"
        },
        {
         "name": "converted",
         "rawType": "int64",
         "type": "integer"
        }
       ],
       "conversionMethod": "pd.DataFrame",
       "ref": "6182a63d-6caf-4e5b-afa4-1b69776f1b14",
       "rows": [
        [
         "0",
         "paid_ads",
         "NA",
         "1",
         "79450.0",
         "unemployed",
         "south_america",
         "4",
         "0.94",
         "1"
        ],
        [
         "1",
         "social_media",
         "retail",
         "1",
         "46992.0",
         "employed",
         "south_america",
         "1",
         "0.8",
         "0"
        ],
        [
         "2",
         "events",
         "healthcare",
         "5",
         "78796.0",
         "unemployed",
         "australia",
         "3",
         "0.69",
         "1"
        ],
        [
         "3",
         "paid_ads",
         "retail",
         "2",
         "83843.0",
         "NA",
         "australia",
         "1",
         "0.87",
         "0"
        ],
        [
         "4",
         "referral",
         "education",
         "3",
         "85012.0",
         "self_employed",
         "europe",
         "3",
         "0.62",
         "1"
        ],
        [
         "5",
         "events",
         "manufacturing",
         "1",
         "59904.0",
         "NA",
         "africa",
         "6",
         "0.83",
         "1"
        ],
        [
         "6",
         "social_media",
         "technology",
         "0",
         "51283.0",
         "NA",
         "middle_east",
         "2",
         "0.57",
         "0"
        ],
        [
         "7",
         "social_media",
         "NA",
         "5",
         "62975.0",
         "student",
         "europe",
         "4",
         "0.62",
         "1"
        ],
        [
         "8",
         "referral",
         "healthcare",
         "4",
         "38648.0",
         "unemployed",
         "south_america",
         "2",
         "0.86",
         "1"
        ],
        [
         "9",
         "paid_ads",
         "other",
         "3",
         "59866.0",
         "student",
         "australia",
         "3",
         "0.43",
         "1"
        ],
        [
         "10",
         "paid_ads",
         "retail",
         "2",
         "79276.0",
         "employed",
         "middle_east",
         "2",
         "0.92",
         "1"
        ],
        [
         "11",
         "organic_search",
         "finance",
         "4",
         "80304.0",
         "self_employed",
         "NA",
         "3",
         "0.97",
         "1"
        ],
        [
         "12",
         "organic_search",
         "NA",
         "2",
         "55615.0",
         "self_employed",
         "middle_east",
         "6",
         "0.71",
         "1"
        ],
        [
         "13",
         "social_media",
         "other",
         "3",
         "55438.0",
         "NA",
         "middle_east",
         "1",
         "0.69",
         "0"
        ],
        [
         "14",
         "paid_ads",
         "healthcare",
         "3",
         "0.0",
         "unemployed",
         "middle_east",
         "4",
         "0.75",
         "1"
        ],
        [
         "15",
         "referral",
         "healthcare",
         "2",
         "56004.0",
         "student",
         "middle_east",
         "0",
         "0.64",
         "0"
        ],
        [
         "16",
         "referral",
         "retail",
         "0",
         "54612.0",
         "self_employed",
         "europe",
         "4",
         "0.86",
         "1"
        ],
        [
         "17",
         "referral",
         "other",
         "2",
         "92470.0",
         "unemployed",
         "europe",
         "4",
         "0.74",
         "1"
        ],
        [
         "18",
         "referral",
         "manufacturing",
         "2",
         "74380.0",
         "self_employed",
         "NA",
         "5",
         "0.51",
         "1"
        ],
        [
         "19",
         "paid_ads",
         "NA",
         "2",
         "62809.0",
         "self_employed",
         "europe",
         "5",
         "0.33",
         "1"
        ]
       ],
       "shape": {
        "columns": 9,
        "rows": 20
       }
      },
      "text/html": [
       "<div>\n",
       "<style scoped>\n",
       "    .dataframe tbody tr th:only-of-type {\n",
       "        vertical-align: middle;\n",
       "    }\n",
       "\n",
       "    .dataframe tbody tr th {\n",
       "        vertical-align: top;\n",
       "    }\n",
       "\n",
       "    .dataframe thead th {\n",
       "        text-align: right;\n",
       "    }\n",
       "</style>\n",
       "<table border=\"1\" class=\"dataframe\">\n",
       "  <thead>\n",
       "    <tr style=\"text-align: right;\">\n",
       "      <th></th>\n",
       "      <th>lead_source</th>\n",
       "      <th>industry</th>\n",
       "      <th>number_of_courses_viewed</th>\n",
       "      <th>annual_income</th>\n",
       "      <th>employment_status</th>\n",
       "      <th>location</th>\n",
       "      <th>interaction_count</th>\n",
       "      <th>lead_score</th>\n",
       "      <th>converted</th>\n",
       "    </tr>\n",
       "  </thead>\n",
       "  <tbody>\n",
       "    <tr>\n",
       "      <th>0</th>\n",
       "      <td>paid_ads</td>\n",
       "      <td>NA</td>\n",
       "      <td>1</td>\n",
       "      <td>79450.0</td>\n",
       "      <td>unemployed</td>\n",
       "      <td>south_america</td>\n",
       "      <td>4</td>\n",
       "      <td>0.94</td>\n",
       "      <td>1</td>\n",
       "    </tr>\n",
       "    <tr>\n",
       "      <th>1</th>\n",
       "      <td>social_media</td>\n",
       "      <td>retail</td>\n",
       "      <td>1</td>\n",
       "      <td>46992.0</td>\n",
       "      <td>employed</td>\n",
       "      <td>south_america</td>\n",
       "      <td>1</td>\n",
       "      <td>0.80</td>\n",
       "      <td>0</td>\n",
       "    </tr>\n",
       "    <tr>\n",
       "      <th>2</th>\n",
       "      <td>events</td>\n",
       "      <td>healthcare</td>\n",
       "      <td>5</td>\n",
       "      <td>78796.0</td>\n",
       "      <td>unemployed</td>\n",
       "      <td>australia</td>\n",
       "      <td>3</td>\n",
       "      <td>0.69</td>\n",
       "      <td>1</td>\n",
       "    </tr>\n",
       "    <tr>\n",
       "      <th>3</th>\n",
       "      <td>paid_ads</td>\n",
       "      <td>retail</td>\n",
       "      <td>2</td>\n",
       "      <td>83843.0</td>\n",
       "      <td>NA</td>\n",
       "      <td>australia</td>\n",
       "      <td>1</td>\n",
       "      <td>0.87</td>\n",
       "      <td>0</td>\n",
       "    </tr>\n",
       "    <tr>\n",
       "      <th>4</th>\n",
       "      <td>referral</td>\n",
       "      <td>education</td>\n",
       "      <td>3</td>\n",
       "      <td>85012.0</td>\n",
       "      <td>self_employed</td>\n",
       "      <td>europe</td>\n",
       "      <td>3</td>\n",
       "      <td>0.62</td>\n",
       "      <td>1</td>\n",
       "    </tr>\n",
       "    <tr>\n",
       "      <th>5</th>\n",
       "      <td>events</td>\n",
       "      <td>manufacturing</td>\n",
       "      <td>1</td>\n",
       "      <td>59904.0</td>\n",
       "      <td>NA</td>\n",
       "      <td>africa</td>\n",
       "      <td>6</td>\n",
       "      <td>0.83</td>\n",
       "      <td>1</td>\n",
       "    </tr>\n",
       "    <tr>\n",
       "      <th>6</th>\n",
       "      <td>social_media</td>\n",
       "      <td>technology</td>\n",
       "      <td>0</td>\n",
       "      <td>51283.0</td>\n",
       "      <td>NA</td>\n",
       "      <td>middle_east</td>\n",
       "      <td>2</td>\n",
       "      <td>0.57</td>\n",
       "      <td>0</td>\n",
       "    </tr>\n",
       "    <tr>\n",
       "      <th>7</th>\n",
       "      <td>social_media</td>\n",
       "      <td>NA</td>\n",
       "      <td>5</td>\n",
       "      <td>62975.0</td>\n",
       "      <td>student</td>\n",
       "      <td>europe</td>\n",
       "      <td>4</td>\n",
       "      <td>0.62</td>\n",
       "      <td>1</td>\n",
       "    </tr>\n",
       "    <tr>\n",
       "      <th>8</th>\n",
       "      <td>referral</td>\n",
       "      <td>healthcare</td>\n",
       "      <td>4</td>\n",
       "      <td>38648.0</td>\n",
       "      <td>unemployed</td>\n",
       "      <td>south_america</td>\n",
       "      <td>2</td>\n",
       "      <td>0.86</td>\n",
       "      <td>1</td>\n",
       "    </tr>\n",
       "    <tr>\n",
       "      <th>9</th>\n",
       "      <td>paid_ads</td>\n",
       "      <td>other</td>\n",
       "      <td>3</td>\n",
       "      <td>59866.0</td>\n",
       "      <td>student</td>\n",
       "      <td>australia</td>\n",
       "      <td>3</td>\n",
       "      <td>0.43</td>\n",
       "      <td>1</td>\n",
       "    </tr>\n",
       "    <tr>\n",
       "      <th>10</th>\n",
       "      <td>paid_ads</td>\n",
       "      <td>retail</td>\n",
       "      <td>2</td>\n",
       "      <td>79276.0</td>\n",
       "      <td>employed</td>\n",
       "      <td>middle_east</td>\n",
       "      <td>2</td>\n",
       "      <td>0.92</td>\n",
       "      <td>1</td>\n",
       "    </tr>\n",
       "    <tr>\n",
       "      <th>11</th>\n",
       "      <td>organic_search</td>\n",
       "      <td>finance</td>\n",
       "      <td>4</td>\n",
       "      <td>80304.0</td>\n",
       "      <td>self_employed</td>\n",
       "      <td>NA</td>\n",
       "      <td>3</td>\n",
       "      <td>0.97</td>\n",
       "      <td>1</td>\n",
       "    </tr>\n",
       "    <tr>\n",
       "      <th>12</th>\n",
       "      <td>organic_search</td>\n",
       "      <td>NA</td>\n",
       "      <td>2</td>\n",
       "      <td>55615.0</td>\n",
       "      <td>self_employed</td>\n",
       "      <td>middle_east</td>\n",
       "      <td>6</td>\n",
       "      <td>0.71</td>\n",
       "      <td>1</td>\n",
       "    </tr>\n",
       "    <tr>\n",
       "      <th>13</th>\n",
       "      <td>social_media</td>\n",
       "      <td>other</td>\n",
       "      <td>3</td>\n",
       "      <td>55438.0</td>\n",
       "      <td>NA</td>\n",
       "      <td>middle_east</td>\n",
       "      <td>1</td>\n",
       "      <td>0.69</td>\n",
       "      <td>0</td>\n",
       "    </tr>\n",
       "    <tr>\n",
       "      <th>14</th>\n",
       "      <td>paid_ads</td>\n",
       "      <td>healthcare</td>\n",
       "      <td>3</td>\n",
       "      <td>0.0</td>\n",
       "      <td>unemployed</td>\n",
       "      <td>middle_east</td>\n",
       "      <td>4</td>\n",
       "      <td>0.75</td>\n",
       "      <td>1</td>\n",
       "    </tr>\n",
       "    <tr>\n",
       "      <th>15</th>\n",
       "      <td>referral</td>\n",
       "      <td>healthcare</td>\n",
       "      <td>2</td>\n",
       "      <td>56004.0</td>\n",
       "      <td>student</td>\n",
       "      <td>middle_east</td>\n",
       "      <td>0</td>\n",
       "      <td>0.64</td>\n",
       "      <td>0</td>\n",
       "    </tr>\n",
       "    <tr>\n",
       "      <th>16</th>\n",
       "      <td>referral</td>\n",
       "      <td>retail</td>\n",
       "      <td>0</td>\n",
       "      <td>54612.0</td>\n",
       "      <td>self_employed</td>\n",
       "      <td>europe</td>\n",
       "      <td>4</td>\n",
       "      <td>0.86</td>\n",
       "      <td>1</td>\n",
       "    </tr>\n",
       "    <tr>\n",
       "      <th>17</th>\n",
       "      <td>referral</td>\n",
       "      <td>other</td>\n",
       "      <td>2</td>\n",
       "      <td>92470.0</td>\n",
       "      <td>unemployed</td>\n",
       "      <td>europe</td>\n",
       "      <td>4</td>\n",
       "      <td>0.74</td>\n",
       "      <td>1</td>\n",
       "    </tr>\n",
       "    <tr>\n",
       "      <th>18</th>\n",
       "      <td>referral</td>\n",
       "      <td>manufacturing</td>\n",
       "      <td>2</td>\n",
       "      <td>74380.0</td>\n",
       "      <td>self_employed</td>\n",
       "      <td>NA</td>\n",
       "      <td>5</td>\n",
       "      <td>0.51</td>\n",
       "      <td>1</td>\n",
       "    </tr>\n",
       "    <tr>\n",
       "      <th>19</th>\n",
       "      <td>paid_ads</td>\n",
       "      <td>NA</td>\n",
       "      <td>2</td>\n",
       "      <td>62809.0</td>\n",
       "      <td>self_employed</td>\n",
       "      <td>europe</td>\n",
       "      <td>5</td>\n",
       "      <td>0.33</td>\n",
       "      <td>1</td>\n",
       "    </tr>\n",
       "  </tbody>\n",
       "</table>\n",
       "</div>"
      ],
      "text/plain": [
       "       lead_source       industry  number_of_courses_viewed  annual_income  \\\n",
       "0         paid_ads             NA                         1        79450.0   \n",
       "1     social_media         retail                         1        46992.0   \n",
       "2           events     healthcare                         5        78796.0   \n",
       "3         paid_ads         retail                         2        83843.0   \n",
       "4         referral      education                         3        85012.0   \n",
       "5           events  manufacturing                         1        59904.0   \n",
       "6     social_media     technology                         0        51283.0   \n",
       "7     social_media             NA                         5        62975.0   \n",
       "8         referral     healthcare                         4        38648.0   \n",
       "9         paid_ads          other                         3        59866.0   \n",
       "10        paid_ads         retail                         2        79276.0   \n",
       "11  organic_search        finance                         4        80304.0   \n",
       "12  organic_search             NA                         2        55615.0   \n",
       "13    social_media          other                         3        55438.0   \n",
       "14        paid_ads     healthcare                         3            0.0   \n",
       "15        referral     healthcare                         2        56004.0   \n",
       "16        referral         retail                         0        54612.0   \n",
       "17        referral          other                         2        92470.0   \n",
       "18        referral  manufacturing                         2        74380.0   \n",
       "19        paid_ads             NA                         2        62809.0   \n",
       "\n",
       "   employment_status       location  interaction_count  lead_score  converted  \n",
       "0         unemployed  south_america                  4        0.94          1  \n",
       "1           employed  south_america                  1        0.80          0  \n",
       "2         unemployed      australia                  3        0.69          1  \n",
       "3                 NA      australia                  1        0.87          0  \n",
       "4      self_employed         europe                  3        0.62          1  \n",
       "5                 NA         africa                  6        0.83          1  \n",
       "6                 NA    middle_east                  2        0.57          0  \n",
       "7            student         europe                  4        0.62          1  \n",
       "8         unemployed  south_america                  2        0.86          1  \n",
       "9            student      australia                  3        0.43          1  \n",
       "10          employed    middle_east                  2        0.92          1  \n",
       "11     self_employed             NA                  3        0.97          1  \n",
       "12     self_employed    middle_east                  6        0.71          1  \n",
       "13                NA    middle_east                  1        0.69          0  \n",
       "14        unemployed    middle_east                  4        0.75          1  \n",
       "15           student    middle_east                  0        0.64          0  \n",
       "16     self_employed         europe                  4        0.86          1  \n",
       "17        unemployed         europe                  4        0.74          1  \n",
       "18     self_employed             NA                  5        0.51          1  \n",
       "19     self_employed         europe                  5        0.33          1  "
      ]
     },
     "execution_count": 9,
     "metadata": {},
     "output_type": "execute_result"
    }
   ],
   "source": [
    "data.head(20)"
   ]
  },
  {
   "cell_type": "code",
   "execution_count": 40,
   "id": "3bfd69ac",
   "metadata": {},
   "outputs": [],
   "source": [
    "# split into 60/20/20\n",
    "from sklearn.model_selection import train_test_split\n",
    "RANDOM_STATE = 1\n",
    "\n",
    "# split data\n",
    "data_full_train, data_test = train_test_split(data, test_size=0.2, random_state=RANDOM_STATE)\n",
    "data_train, data_val = train_test_split(data_full_train, test_size=0.25, random_state=RANDOM_STATE)\n",
    "\n",
    "data_train = data_train.reset_index(drop=True)\n",
    "data_val = data_val.reset_index(drop=True)\n",
    "data_test = data_test.reset_index(drop=True)\n",
    "\n",
    "y_train = data_train['converted'].values\n",
    "y_test = data_test['converted'].values\n",
    "y_val = data_val['converted'].values\n",
    "\n",
    "del data_train['converted']\n",
    "del data_val['converted']\n",
    "del data_test['converted']"
   ]
  },
  {
   "cell_type": "code",
   "execution_count": 41,
   "id": "152804ae",
   "metadata": {},
   "outputs": [
    {
     "name": "stdout",
     "output_type": "stream",
     "text": [
      "\n",
      "Split sizes:\n",
      "train: (876, 8) val: (293, 8) test: (293, 8)\n"
     ]
    }
   ],
   "source": [
    " \n",
    "print(\"\\nSplit sizes:\")\n",
    "print(\"train:\", data_train.shape, \"val:\", data_val.shape, \"test:\", data_test.shape)"
   ]
  },
  {
   "cell_type": "code",
   "execution_count": 45,
   "id": "860d91b7",
   "metadata": {},
   "outputs": [],
   "source": [
    "# Q1: ROC AUC per numerical variable (on TRAIN)\")\n",
    "from sklearn.metrics import roc_auc_score\n",
    "\n",
    "numeric_cols = [col for col in data_train if data_train[col].dtype != \"object\" and col != 'converted']\n",
    "results = {}\n",
    "\n",
    "# use each col as a 'score' vs ground truth y\n",
    "for col in numeric_cols:\n",
    "    scores = data_train[col].astype(float)\n",
    "    auc = roc_auc_score(y_train.astype(int), scores)\n",
    "    \n",
    "    # If AUC < 0.5, invert variable (interpreting as using negative of the column)\n",
    "    auc_used = auc\n",
    "    if auc < 0.5:\n",
    "        auc_used = roc_auc_score(y_train.astype(int), -scores)\n",
    "    \n",
    "    results[col] = float(auc_used)"
   ]
  },
  {
   "cell_type": "code",
   "execution_count": 46,
   "id": "80d48d37",
   "metadata": {},
   "outputs": [
    {
     "data": {
      "text/plain": [
       "[('number_of_courses_viewed', 0.7635680590007088),\n",
       " ('interaction_count', 0.738270176293409),\n",
       " ('lead_score', 0.6144993577250176),\n",
       " ('annual_income', 0.5519578313253012)]"
      ]
     },
     "execution_count": 46,
     "metadata": {},
     "output_type": "execute_result"
    }
   ],
   "source": [
    "# Print results sorted by auc_used desc\n",
    "q1_sorted = sorted(results.items(), key=lambda x: x[1], reverse=True)\n",
    "q1_sorted"
   ]
  },
  {
   "cell_type": "code",
   "execution_count": 47,
   "id": "a38df628",
   "metadata": {},
   "outputs": [
    {
     "name": "stdout",
     "output_type": "stream",
     "text": [
      "\n",
      "Q1 Answer:  number_of_courses_viewed\n"
     ]
    }
   ],
   "source": [
    "best_feature = q1_sorted[0][0]\n",
    "print(\"\\nQ1 Answer: \", best_feature)"
   ]
  },
  {
   "cell_type": "code",
   "execution_count": 48,
   "id": "54ffe8a2",
   "metadata": {},
   "outputs": [
    {
     "data": {
      "text/plain": [
       "lead_source                        events\n",
       "industry                    manufacturing\n",
       "number_of_courses_viewed                2\n",
       "annual_income                     95543.0\n",
       "employment_status              unemployed\n",
       "location                           europe\n",
       "interaction_count                       3\n",
       "lead_score                           0.78\n",
       "Name: 0, dtype: object"
      ]
     },
     "execution_count": 48,
     "metadata": {},
     "output_type": "execute_result"
    }
   ],
   "source": [
    "data_train.iloc[0]"
   ]
  },
  {
   "cell_type": "code",
   "execution_count": null,
   "id": "3a682a36",
   "metadata": {},
   "outputs": [],
   "source": [
    "# scale data_train and data_val using standard scaler to get answer closer to options\n",
    "from sklearn.preprocessing import StandardScaler\n",
    "scaler = StandardScaler()\n",
    "\n",
    "data_train_scaled = data_train.copy()\n",
    "data_val_scaled = data_val.copy()\n",
    "\n",
    "data_train_scaled[numeric_cols] = scaler.fit_transform(data_train[numeric_cols])\n",
    "data_val_scaled[numeric_cols] = scaler.transform(data_val[numeric_cols])"
   ]
  },
  {
   "cell_type": "code",
   "execution_count": 87,
   "id": "7df64641",
   "metadata": {},
   "outputs": [
    {
     "data": {
      "text/plain": [
       "{'lead_source': 'events',\n",
       " 'industry': 'manufacturing',\n",
       " 'number_of_courses_viewed': -0.030510015962528645,\n",
       " 'annual_income': 1.7597496770343866,\n",
       " 'employment_status': 'unemployed',\n",
       " 'location': 'europe',\n",
       " 'interaction_count': 0.028412523548321463,\n",
       " 'lead_score': 0.996767505570434}"
      ]
     },
     "execution_count": 87,
     "metadata": {},
     "output_type": "execute_result"
    }
   ],
   "source": [
    "# Q2 log reg model with dict vectorizer\n",
    "from sklearn.feature_extraction import DictVectorizer\n",
    "from sklearn.linear_model import LogisticRegression\n",
    "\n",
    "features = data.columns.drop('converted').tolist()\n",
    "\n",
    "train_dicts = data_train_scaled[features].to_dict(orient=\"records\")\n",
    "val_dicts = data_val_scaled[features].to_dict(orient=\"records\")\n",
    "\n",
    "train_dicts[0]"
   ]
  },
  {
   "cell_type": "code",
   "execution_count": 88,
   "id": "ff91a6c7",
   "metadata": {},
   "outputs": [],
   "source": [
    "# use vectorizer on train and val data\n",
    "dv = DictVectorizer(sparse=False)\n",
    "X_train = dv.fit_transform(train_dicts)\n",
    "X_val = dv.transform(val_dicts)"
   ]
  },
  {
   "cell_type": "code",
   "execution_count": 89,
   "id": "cc3d0ef3",
   "metadata": {},
   "outputs": [
    {
     "name": "stdout",
     "output_type": "stream",
     "text": [
      "\n",
      "Q2 Answer: 0.92\n"
     ]
    }
   ],
   "source": [
    "lr = LogisticRegression(solver='liblinear', C=1.0, max_iter=1000)\n",
    "lr.fit(X_train, y_train)\n",
    "\n",
    "y_val_pred = lr.predict_proba(X_val)[:, 1]\n",
    "auc = roc_auc_score(y_val, y_val_pred)\n",
    "print(f\"\\nQ2 Answer: {auc:.2f}\", )"
   ]
  },
  {
   "cell_type": "code",
   "execution_count": 101,
   "id": "8c845437",
   "metadata": {},
   "outputs": [],
   "source": [
    "# q3: evaluate model on multiple thresholds \n",
    "from sklearn.metrics import precision_score, recall_score, f1_score\n",
    "\n",
    "thresholds = np.arange(0, 1.01, 0.01)\n",
    "precisions = []\n",
    "recalls = []\n",
    "f1s = []\n",
    "\n",
    "for t in thresholds:\n",
    "    # actual_positive = (y_val == 1)\n",
    "    # actual_negative = (y_val == 0)\n",
    "    \n",
    "    # pred_positive = (y_val_pred >= t)\n",
    "    # pred_negative = (y_val_pred < t)\n",
    "\n",
    "    # tp = (actual_positive & pred_positive).sum()\n",
    "    # fp = (actual_negative & pred_positive).sum()\n",
    "    # fn = (actual_positive & pred_negative).sum()\n",
    "    # tn = (actual_negative & pred_negative).sum()\n",
    "\n",
    "    # precision = tp / (tp + fp) if (tp + fp) > 0 else 0\n",
    "    # recall = tp / (tp + fn) if (tp + fn) > 0 else 0\n",
    "\n",
    "    preds = (y_val_pred >= t).astype(int)\n",
    "    p = precision_score(y_val, preds, zero_division=0)\n",
    "    r = recall_score(y_val, preds, zero_division=0)\n",
    "    f1 = f1_score(y_val, preds, zero_division=0)\n",
    "    \n",
    "    precisions.append(p)\n",
    "    recalls.append(r)\n",
    "    f1s.append(f1)\n"
   ]
  },
  {
   "cell_type": "code",
   "execution_count": 102,
   "id": "edd87fba",
   "metadata": {},
   "outputs": [
    {
     "data": {
      "image/png": "[encoded data removed]",
      "text/plain": [
       "<Figure size 640x480 with 1 Axes>"
      ]
     },
     "metadata": {},
     "output_type": "display_data"
    }
   ],
   "source": [
    "import matplotlib.pyplot as plt\n",
    "\n",
    "plt.plot(thresholds, precisions, label='Precision')\n",
    "plt.plot(thresholds, recalls, label='Recall')\n",
    "plt.xlabel('Threshold')\n",
    "plt.ylabel('Score')\n",
    "plt.title('Precision and Recall vs Threshold')\n",
    "plt.grid()\n",
    "plt.legend()\n",
    "plt.show()"
   ]
  },
  {
   "cell_type": "code",
   "execution_count": 110,
   "id": "22b37c69",
   "metadata": {},
   "outputs": [
    {
     "name": "stdout",
     "output_type": "stream",
     "text": [
      "\n",
      "Q4 Answer: 0.53\n"
     ]
    }
   ],
   "source": [
    "# Q4: find threshold with maximal f1 score\n",
    "f1s = np.array(f1s)\n",
    "\n",
    "best_f1_index = f1s.argmax()\n",
    "best_f1_threshold = thresholds[best_f1_index]\n",
    "print(f\"\\nQ4 Answer: {best_f1_threshold}\")"
   ]
  },
  {
   "cell_type": "code",
   "execution_count": null,
   "id": "7eaf5831",
   "metadata": {},
   "outputs": [],
   "source": [
    "# Q5: 5 fold CV with KFold on df_full_train\n",
    "from sklearn.model_selection import KFold\n",
    "\n",
    "# format data_full_train\n",
    "data_full_train.reset_index(drop=True, inplace=True)\n",
    "full_y = data_full_train['converted'].values\n",
    "\n",
    "del data_full_train['converted']\n",
    "\n",
    "# scale\n",
    "scaler = StandardScaler()\n",
    "data_full_train_scaled = data_full_train.copy()\n",
    "data_full_train_scaled[numeric_cols] = scaler.fit_transform(data_full_train[numeric_cols])"
   ]
  },
  {
   "cell_type": "code",
   "execution_count": 162,
   "id": "d3a1caba",
   "metadata": {},
   "outputs": [
    {
     "name": "stdout",
     "output_type": "stream",
     "text": [
      "Fold AUC: 0.806\n",
      "Fold AUC: 0.871\n",
      "Fold AUC: 0.775\n",
      "Fold AUC: 0.802\n",
      "Fold AUC: 0.856\n",
      "\n",
      "Q5 Answer: 0.036\n"
     ]
    }
   ],
   "source": [
    "# set up KFold\n",
    "kf = KFold(n_splits=5, shuffle=True, random_state=RANDOM_STATE)\n",
    "\n",
    "# for each fold, vectorize, train, evaluate\n",
    "scores = []\n",
    "for train_idx, val_idx in kf.split(data_full_train):\n",
    "    train = data_full_train.iloc[train_idx]\n",
    "    val = data_full_train.iloc[val_idx]\n",
    "\n",
    "    # prep data\n",
    "    dv = DictVectorizer(sparse=False)\n",
    "    x_train = dv.fit_transform(train.to_dict(orient='records'))\n",
    "    x_val = dv.transform(val.to_dict(orient='records'))\n",
    "\n",
    "    y_train = full_y[train_idx]\n",
    "    y_val = full_y[val_idx]\n",
    "\n",
    "    lr = LogisticRegression(solver='liblinear', C=1.0, max_iter=1000)\n",
    "    lr.fit(x_train, y_train)\n",
    "\n",
    "    y_val_proba = lr.predict_proba(x_val)[:, 1]\n",
    "    auc = roc_auc_score(y_val, y_val_proba)\n",
    "    print(f\"Fold AUC: {auc:.3f}\")\n",
    "    scores.append(auc)\n",
    "\n",
    "std_auc = np.std(scores)\n",
    "print(f\"\\nQ5 Answer: {std_auc:.3f}\")"
   ]
  },
  {
   "cell_type": "code",
   "execution_count": 163,
   "id": "97eb5908",
   "metadata": {},
   "outputs": [
    {
     "data": {
      "text/plain": [
       "[{'C': 1e-06, 'mean_auc': 0.56, 'std_auc': 0.024},\n",
       " {'C': 0.001, 'mean_auc': 0.867, 'std_auc': 0.029},\n",
       " {'C': 1, 'mean_auc': 0.822, 'std_auc': 0.036}]"
      ]
     },
     "execution_count": 163,
     "metadata": {},
     "output_type": "execute_result"
    }
   ],
   "source": [
    "# Q6: tune hyper params\n",
    "C_range = [0.000001, 0.001, 1]\n",
    "kf = KFold(n_splits=5, shuffle=True, random_state=RANDOM_STATE)\n",
    "results = []\n",
    "\n",
    "# loop over C values\n",
    "for C in C_range:\n",
    "    scores = []\n",
    "    for train_idx, val_idx in kf.split(data_full_train):\n",
    "        train = data_full_train.iloc[train_idx]\n",
    "        val = data_full_train.iloc[val_idx]\n",
    "\n",
    "        # prep data\n",
    "        dv = DictVectorizer(sparse=False)\n",
    "        x_train = dv.fit_transform(train.to_dict(orient='records'))\n",
    "        x_val = dv.transform(val.to_dict(orient='records'))\n",
    "\n",
    "        y_train = full_y[train_idx]\n",
    "        y_val = full_y[val_idx]\n",
    "\n",
    "        lr = LogisticRegression(solver='liblinear', C=C, max_iter=1000)\n",
    "        lr.fit(x_train, y_train)\n",
    "\n",
    "        y_val_proba = lr.predict_proba(x_val)[:, 1]\n",
    "        auc = roc_auc_score(y_val, y_val_proba)\n",
    "        scores.append(auc)\n",
    "    \n",
    "    # save metrics for each value of C\n",
    "    mean_auc = np.mean(scores)\n",
    "    std_auc = np.std(scores)\n",
    "    results.append({'C': C, 'mean_auc': round(mean_auc, 3), 'std_auc': round(std_auc, 3)})\n",
    "\n",
    "results"
   ]
  },
  {
   "cell_type": "code",
   "execution_count": null,
   "id": "f03a49a0",
   "metadata": {},
   "outputs": [],
   "source": []
  }
 ],
 "metadata": {
  "kernelspec": {
   "display_name": "base",
   "language": "python",
   "name": "python3"
  },
  "language_info": {
   "codemirror_mode": {
    "name": "ipython",
    "version": 3
   },
   "file_extension": ".py",
   "mimetype": "text/x-python",
   "name": "python",
   "nbconvert_exporter": "python",
   "pygments_lexer": "ipython3",
   "version": "3.12.2"
  }
 },
 "nbformat": 4,
 "nbformat_minor": 5
}
